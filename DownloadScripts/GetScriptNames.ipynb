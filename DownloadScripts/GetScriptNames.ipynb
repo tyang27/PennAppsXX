{
 "cells": [
  {
   "cell_type": "code",
   "execution_count": 1,
   "metadata": {},
   "outputs": [],
   "source": [
    "import urllib\n",
    "from urllib.request import urlopen\n",
    "from bs4 import BeautifulSoup\n",
    "import pprint"
   ]
  },
  {
   "cell_type": "code",
   "execution_count": 2,
   "metadata": {},
   "outputs": [],
   "source": [
    "BASE = 'https://www.imsdb.com'\n",
    "level1 = ['0', 'A', 'B', 'C', 'D', 'E', 'F', 'G', 'H',\n",
    "          'I', 'J', 'K', 'L', 'M', 'N', 'O', 'P', 'Q',\n",
    "          'R', 'S', 'T', 'U', 'V', 'W', 'X', 'Y', 'Z']\n",
    "level1_html = []\n",
    "for l1 in level1:\n",
    "    url = urlopen('{base}/alphabetical/{l1}'.format(base=BASE, l1=l1))\n",
    "    level1_html.append(BeautifulSoup(url, 'html.parser'))\n",
    "\n",
    "# Alternatively, just scrape: https://www.imsdb.com/all%20scripts"
   ]
  },
  {
   "cell_type": "code",
   "execution_count": 3,
   "metadata": {},
   "outputs": [],
   "source": [
    "with open('movie_titles.csv', 'w') as ofp:\n",
    "    for l1_html in level1_html:\n",
    "        l1_html = l1_html.find_all('td', valign='top')\n",
    "\n",
    "        # Get all links with href starting with Movie Scripts\n",
    "        links = l1_html[2].find_all('a')\n",
    "        links = [l for l in links if l['href'].startswith('/Movie Scripts/')]\n",
    "        \n",
    "        # Movie title\n",
    "        links_text = [l.text.strip() for l in links]\n",
    "        \n",
    "        # Movie link to homepage\n",
    "        links_href = [BASE + l['href'] for l in links]\n",
    "        links_href = [l.replace(' ', '%20') for l in links_href]\n",
    "        \n",
    "        # Write to file\n",
    "        for lt, la in zip(links_text, links_href):\n",
    "            ofp.write(lt + '|' + la + '\\n')"
   ]
  },
  {
   "cell_type": "code",
   "execution_count": 25,
   "metadata": {},
   "outputs": [],
   "source": [
    "links = []\n",
    "level2_html = []\n",
    "with open('movie_titles.csv', 'r') as ifp:\n",
    "    for ln in ifp:\n",
    "        links.append(ln.strip().split('|'))\n",
    "\n",
    "l_titles = [l[0] for l in links]\n",
    "links = [l[1] for l in links]\n",
    "\n",
    "for l in links:\n",
    "    url = urlopen(l)\n",
    "    level2_html.append(BeautifulSoup(url, 'html.parser'))"
   ]
  },
  {
   "cell_type": "code",
   "execution_count": 34,
   "metadata": {},
   "outputs": [
    {
     "name": "stdout",
     "output_type": "stream",
     "text": [
      "A.I.\n",
      "Batman and Robin\n",
      "Batman Begins\n",
      "Batman Forever\n",
      "Batman Returns\n",
      "Casablanca\n",
      "Contact\n",
      "Dark Knight, The\n",
      "Donnie Darko\n",
      "Executive Decision\n",
      "Eyes Wide Shut\n",
      "Full Metal Jacket\n",
      "Fury\n",
      "Goodfellas\n",
      "Harry Potter and the Chamber of Secrets\n",
      "Harry Potter and the Deathly Hallows Part 1\n",
      "Harry Potter and the Goblet of Fire\n",
      "Harry Potter and the Half-Blood Prince\n",
      "Harry Potter and the Prisoner of Azkaban\n",
      "Harry Potter and the Sorcerer's Stone\n",
      "Innerspace\n",
      "Lethal Weapon\n",
      "Lethal Weapon 4\n",
      "Matchstick Men\n",
      "Outbreak\n",
      "Troy\n",
      "Unforgiven\n",
      "Valentine's Day\n"
     ]
    }
   ],
   "source": [
    "l_links = [l.findAll('a', href=True) for l in level2_html]\n",
    "s_links = []\n",
    "\n",
    "for l_title, l_link in zip(l_titles, l_links):\n",
    "    found_link = False\n",
    "    \n",
    "    # Script links start with /scripts/, take the first one.\n",
    "    for l in l_link:\n",
    "        if (l['href'].startswith('/scripts/')):\n",
    "            found_link = True\n",
    "            s_links.append([l_title, l['href']])\n",
    "            break\n",
    "    \n",
    "    # Some movies have home pages, but not scripts.\n",
    "    if not found_link:\n",
    "        print(l_title)\n",
    "\n",
    "with open('movie_script_links.csv', 'w') as ofp:\n",
    "    for l in s_links:\n",
    "        ofp.write(l[0] + '|' + BASE + l[1] + '\\n')"
   ]
  },
  {
   "cell_type": "code",
   "execution_count": 54,
   "metadata": {},
   "outputs": [
    {
     "name": "stderr",
     "output_type": "stream",
     "text": [
      "Some characters could not be decoded, and were replaced with REPLACEMENT CHARACTER.\n",
      "Some characters could not be decoded, and were replaced with REPLACEMENT CHARACTER.\n",
      "Some characters could not be decoded, and were replaced with REPLACEMENT CHARACTER.\n",
      "Some characters could not be decoded, and were replaced with REPLACEMENT CHARACTER.\n",
      "Some characters could not be decoded, and were replaced with REPLACEMENT CHARACTER.\n",
      "Some characters could not be decoded, and were replaced with REPLACEMENT CHARACTER.\n",
      "Some characters could not be decoded, and were replaced with REPLACEMENT CHARACTER.\n",
      "Some characters could not be decoded, and were replaced with REPLACEMENT CHARACTER.\n",
      "Some characters could not be decoded, and were replaced with REPLACEMENT CHARACTER.\n",
      "Some characters could not be decoded, and were replaced with REPLACEMENT CHARACTER.\n",
      "Some characters could not be decoded, and were replaced with REPLACEMENT CHARACTER.\n",
      "Some characters could not be decoded, and were replaced with REPLACEMENT CHARACTER.\n",
      "Some characters could not be decoded, and were replaced with REPLACEMENT CHARACTER.\n",
      "Some characters could not be decoded, and were replaced with REPLACEMENT CHARACTER.\n",
      "Some characters could not be decoded, and were replaced with REPLACEMENT CHARACTER.\n",
      "Some characters could not be decoded, and were replaced with REPLACEMENT CHARACTER.\n",
      "Some characters could not be decoded, and were replaced with REPLACEMENT CHARACTER.\n"
     ]
    }
   ],
   "source": [
    "script_names = []\n",
    "script_links = []\n",
    "scripts_html = {}\n",
    "with open('movie_script_links.csv', 'r') as ifp:\n",
    "    for line in ifp:\n",
    "        script_names.append(line.strip().split('|')[0])\n",
    "        script_links.append(line.strip().split('|')[1])\n",
    "\n",
    "for l_name, l in zip(script_names, script_links):\n",
    "    url = urlopen(l)\n",
    "    scripts_html[l_name] = BeautifulSoup(url, 'html.parser').find('pre')\n",
    "\n",
    "with open('scripts.csv', 'w') as ofp:\n",
    "    for script in scripts_html.items():\n",
    "        ofp.write('{}|{}\\n'.format(script[0], ' '.join(str(script[1]).split())))"
   ]
  }
 ],
 "metadata": {
  "kernelspec": {
   "display_name": "Python 3",
   "language": "python",
   "name": "python3"
  },
  "language_info": {
   "codemirror_mode": {
    "name": "ipython",
    "version": 3
   },
   "file_extension": ".py",
   "mimetype": "text/x-python",
   "name": "python",
   "nbconvert_exporter": "python",
   "pygments_lexer": "ipython3",
   "version": "3.7.4"
  }
 },
 "nbformat": 4,
 "nbformat_minor": 2
}
